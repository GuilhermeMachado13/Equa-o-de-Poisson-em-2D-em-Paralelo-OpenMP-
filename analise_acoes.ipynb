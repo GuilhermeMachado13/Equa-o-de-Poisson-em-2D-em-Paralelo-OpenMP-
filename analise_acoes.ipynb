{
  "nbformat": 4,
  "nbformat_minor": 0,
  "metadata": {
    "colab": {
      "name": "analise_acoes.ipynb",
      "provenance": [],
      "collapsed_sections": [],
      "authorship_tag": "ABX9TyOJ/ozf2+fGHwVuf/d8Z3Z+",
      "include_colab_link": true
    },
    "kernelspec": {
      "name": "python3",
      "display_name": "Python 3"
    },
    "language_info": {
      "name": "python"
    }
  },
  "cells": [
    {
      "cell_type": "markdown",
      "metadata": {
        "id": "view-in-github",
        "colab_type": "text"
      },
      "source": [
        "<a href=\"https://colab.research.google.com/github/GuilhermeMachado13/Equa-o-de-Poisson-em-2D-em-Paralelo-OpenMP-/blob/main/analise_acoes.ipynb\" target=\"_parent\"><img src=\"https://colab.research.google.com/assets/colab-badge.svg\" alt=\"Open In Colab\"/></a>"
      ]
    },
    {
      "cell_type": "code",
      "source": [
        "import requests\n",
        "from bs4 import BeautifulSoup"
      ],
      "metadata": {
        "id": "CTpO9k9nYUeI"
      },
      "execution_count": null,
      "outputs": []
    },
    {
      "cell_type": "code",
      "source": [
        "import requests\n",
        "from bs4 import BeautifulSoup\n",
        "cabecalho={'user-agent': 'Mozilla/5.0'} ## \n",
        "codigo=input('Informe o código da ação:\\n')# entrar com o código da ação\n",
        "codigo_acao=f'https://statusinvest.com.br/acoes/{codigo}' # \n",
        "resposta=requests.get(codigo_acao, headers= cabecalho) # fazendo a requisição para acessar o site\n",
        "emaranhado=resposta.text                          \n",
        "emaranhado_legal=BeautifulSoup(emaranhado, 'html.parser')\n",
        "print('\\n')\n",
        "\n",
        "print(f'---Informações Gerais---')\n",
        "print('\\n')\n",
        "\n",
        "def nome_acao():  ## função para mostrar o código e o nome da ação requisitado\n",
        "  acronimo=emaranhado_legal.find_all('h1', class_=\"lh-4\") \n",
        "  acao=acronimo[0].text.replace(\" \", \"\")\n",
        "  print(f'Ação: {acao}')\n",
        "\n",
        "nome_acao()\n",
        "\n",
        "def setor_atuacao(): \n",
        "  setor=emaranhado_legal.find_all('div', class_=\"info pr-md-2\")\n",
        "  setor_atuacao=setor[0].find('strong').text\n",
        "  print(f'Setor de Atuação: {setor_atuacao}')\n",
        "\n",
        "setor_atuacao()  \n",
        "\n",
        "def subsetor_atuacao():\n",
        "  subsetor=emaranhado_legal.find_all('div', class_=\"info pl-md-2 pr-md-2\")\n",
        "  subsetor_atuacao=subsetor[0].find('strong').text\n",
        "  print(f'Subsetor de Atuação: {subsetor_atuacao}')\n",
        "\n",
        "subsetor_atuacao()\n",
        "\n",
        "def segmento_atuacao():\n",
        "  segmento=emaranhado_legal.find_all('div', class_=\"info pl-md-2 \")\n",
        "  segmento_atuacao =segmento[0].find('strong').text\n",
        "  print(f'Segmento de Atuação: {segmento_atuacao}')\n",
        "\n",
        "segmento_atuacao()\n",
        "\n",
        "def valor_acao():\n",
        "  valor_atual=emaranhado_legal.find_all('strong', class_=\"value\")\n",
        "  valor_atual[0].text\n",
        "  print(f'Valor da Cotação: R$ {float(valor_atual[0].text.replace(\",\", \".\"))}')\n",
        "\n",
        "valor_acao()  \n",
        "\n",
        "def valorizacao_acao():\n",
        "  valorizacao=emaranhado_legal.find_all('div', class_=\"info w-50 w-md-50 w-lg-20\")\n",
        "  valorizacao_acao=valorizacao[0].find('strong').text.replace(\"%\", \"\").replace(\",\", \".\")\n",
        "  print(f'Valorização (12 meses): {float(valorizacao_acao)}%')\n",
        "\n",
        "valorizacao_acao()  \n",
        "\n",
        "\n",
        "print('\\n')\n",
        "print(f'---Métricas Fundamentalistas---')\n",
        "print('\\n')\n",
        "\n",
        "def dividend_yield():\n",
        "  dividend=emaranhado_legal.find_all('strong', class_=\"value d-block lh-4 fs-4 fw-700\")\n",
        "  dividend_yield=dividend[0].text.replace('%', '')\n",
        "  if (dividend_yield=='-'):\n",
        "    print(f'Dividend Yield não informado')\n",
        "  else:  \n",
        "    print(f'Dividend Yield: {float(dividend[0].text.replace(\"%\", \"\").replace(\",\", \".\"))}%')\n",
        "\n",
        "dividend_yield()\n",
        "\n",
        "def dividendos_atuais():\n",
        "  dividendos_atuais=emaranhado_legal.find_all('div', class_=\"info w-lg-20\")\n",
        "  dividendos_atuais=dividendos_atuais[1].find('strong').text.replace(\",\", \".\")\n",
        "  print(f'Dividendos Distribuidos este ano: R$ {float(dividendos_atuais)}')\n",
        "\n",
        "dividendos_atuais()\n",
        "\n",
        "#def dividendos_ano_anterior():\n",
        "#  dividendos_ano_anterior=emaranhado_legal.find_all('div', class_=\"info w-lg-20\")\n",
        "#  dividendos_ano_anterior=dividendos_ano_anterior[0].find('strong').text.replace(\",\", \".\")\n",
        "#  print(f'Dividendos Distribuidos ano passado: R$ {float(dividendos_ano_anterior)}')\n",
        "\n",
        "#dividendos_ano_anterior()\n",
        "\n",
        "def divida_liquida_ebitda():\n",
        "  divida_liquida=emaranhado_legal.find_all('div', class_=\"d-flex align-items-center justify-between pr-1 pr-xs-2\")\n",
        "  divida=divida_liquida[15].find('strong').text.replace(',', '.')\n",
        "  if (divida=='-'):\n",
        "    print(f'DÍV.LÍQUIDA/EBITDA não informada')\n",
        "  else:  \n",
        "    print(f'DÍV.LÍQUIDA/EBITDA: {float(divida_liquida[15].find(\"strong\").text.replace(\",\", \".\"))}')\n",
        "\n",
        "divida_liquida_ebitda()\n",
        "\n",
        "def lpa():\n",
        "  lpa=emaranhado_legal.find_all('div', class_=\"d-flex align-items-center justify-between pr-1 pr-xs-2\")\n",
        "  LPA=lpa[10].find('strong').text.replace(',', '.')\n",
        "  if (LPA=='-'):\n",
        "    print(f'LPA não informado')\n",
        "  else:  \n",
        "    print(f'LPA: {float(lpa[10].find(\"strong\").text.replace(\",\", \".\"))}')\n",
        "\n",
        "lpa()\n",
        "\n",
        "def pl(): ## Indice de preço sobre lucro (P/L)\n",
        "  pl=emaranhado_legal.find_all('div', class_=\"d-flex align-items-center justify-between pr-1 pr-xs-2\")\n",
        "  PL=pl[1].find('strong').text.replace(',', '.')\n",
        "  if (PL=='-'):\n",
        "    print(f'P/L não informado')\n",
        "  else:  \n",
        "    print(f'P/L: {float(pl[1].find(\"strong\").text.replace(\",\", \".\"))}')\n",
        "\n",
        "pl()\n",
        "\n",
        "def p_vp(): ## \n",
        "  p_vp=emaranhado_legal.find_all('div', class_=\"d-flex align-items-center justify-between pr-1 pr-xs-2\")\n",
        "  P_VP=p_vp[3].find('strong').text.replace(',', '.')\n",
        "  if (P_VP=='-'):\n",
        "    print(f'P/VP não informado')\n",
        "  else:  \n",
        "    print(f'P/VP: {float(p_vp[3].find(\"strong\").text.replace(\",\", \".\"))}')\n",
        "\n",
        "p_vp()\n",
        "\n",
        "def roe():\n",
        "  roe=emaranhado_legal.find_all('div', class_=\"d-flex align-items-center justify-between pr-1 pr-xs-2\")\n",
        "  ROE=roe[24].find('strong').text.replace(',', '.').replace('%', '')\n",
        "  if (ROE=='-'):\n",
        "    print(f'ROE não informado')\n",
        "  else:  \n",
        "    print(f'ROE: {float(roe[24].find(\"strong\").text.replace(\",\", \".\").replace(\"%\", \"\"))}%')\n",
        "\n",
        "roe()\n",
        "\n",
        "def roic():\n",
        "  roic=emaranhado_legal.find_all('div', class_=\"d-flex align-items-center justify-between pr-1 pr-xs-2\")\n",
        "  ROIC=roic[26].find('strong').text.replace(',', '.').replace('%', '')\n",
        "  if (ROIC=='-'):\n",
        "    print(f'ROIC não informado')\n",
        "  else:  \n",
        "    print(f'ROIC: {float(roic[26].find(\"strong\").text.replace(\",\", \".\").replace(\"%\", \"\"))}%')\n",
        "\n",
        "roic()\n"
      ],
      "metadata": {
        "id": "pAyavPMcdBl5",
        "colab": {
          "base_uri": "https://localhost:8080/"
        },
        "outputId": "b13e38ab-724b-4052-9bfe-2fcaa6698b3d"
      },
      "execution_count": null,
      "outputs": [
        {
          "output_type": "stream",
          "name": "stdout",
          "text": [
            "Informe o código da ação:\n",
            "cple3\n",
            "\n",
            "\n",
            "---Informações Gerais---\n",
            "\n",
            "\n",
            "Ação: CPLE3-COPEL\n",
            "Setor de Atuação: Utilidade Pública\n",
            "Subsetor de Atuação: Energia Elétrica\n",
            "Segmento de Atuação: Energia Elétrica\n",
            "Valor da Cotação: R$ 6.58\n",
            "Valorização (12 meses): 21.4%\n",
            "\n",
            "\n",
            "---Métricas Fundamentalistas---\n",
            "\n",
            "\n",
            "Dividend Yield: 16.16%\n",
            "Dividendos Distribuidos este ano: R$ 0.4712\n",
            "DÍV.LÍQUIDA/EBITDA não informada\n",
            "LPA: 1.77\n",
            "P/L: 3.73\n",
            "P/VP: 0.81\n",
            "ROE: 21.79%\n",
            "ROIC: 12.62%\n"
          ]
        }
      ]
    },
    {
      "cell_type": "code",
      "source": [
        ""
      ],
      "metadata": {
        "id": "k1fTLysB-CCM"
      },
      "execution_count": null,
      "outputs": []
    },
    {
      "cell_type": "code",
      "source": [
        ""
      ],
      "metadata": {
        "id": "cgjsUjQL-D8S"
      },
      "execution_count": null,
      "outputs": []
    },
    {
      "cell_type": "code",
      "source": [
        "emaranhado=resposta.text\n",
        "#emaranhado"
      ],
      "metadata": {
        "id": "-XKfDSOldKp8"
      },
      "execution_count": null,
      "outputs": []
    },
    {
      "cell_type": "code",
      "source": [
        "emaranhado_legal=BeautifulSoup(emaranhado, 'html.parser')\n",
        "#emaranhado_legal"
      ],
      "metadata": {
        "id": "GokGtKlGdS1m"
      },
      "execution_count": null,
      "outputs": []
    },
    {
      "cell_type": "code",
      "source": [
        "acronimo=emaranhado_legal.find_all('h1', class_=\"lh-4\")\n",
        "acronimo[0].text.strip()\n",
        "print(f'Ação: {acronimo[0].text.replace(\" \", \"\")}')"
      ],
      "metadata": {
        "id": "VYD_VyUrdY3Z"
      },
      "execution_count": null,
      "outputs": []
    },
    {
      "cell_type": "code",
      "source": [
        "segmento=emaranhado_legal.find_all('div', class_=\"info pl-md-2 \")\n",
        "segmento_atuacao =segmento[0].find('strong').text\n",
        "print(f'Segmento de Atuação: {segmento_atuacao}')"
      ],
      "metadata": {
        "id": "T7pt0nGX6niw"
      },
      "execution_count": null,
      "outputs": []
    },
    {
      "cell_type": "code",
      "source": [
        "setor=emaranhado_legal.find_all('div', class_=\"info pr-md-2\")\n",
        "setor_atuacao=setor[0].find('strong').text\n",
        "print(f'Setor de Atuação: {setor_atuacao}')"
      ],
      "metadata": {
        "colab": {
          "base_uri": "https://localhost:8080/"
        },
        "id": "2KKbw17a8jAr",
        "outputId": "871997d2-ff3c-49bb-c766-16d6790fc019"
      },
      "execution_count": null,
      "outputs": [
        {
          "output_type": "stream",
          "name": "stdout",
          "text": [
            "Setor de Atuação: Consumo Cíclico\n"
          ]
        }
      ]
    },
    {
      "cell_type": "code",
      "source": [
        "setor=emaranhado_legal.find_all('div', class_=\"info pl-md-2 pr-md-2\")\n",
        "subsetor_atuacao=setor[0].find('strong').text\n",
        "print(f'Subsetor de Atuação: {subsetor_atuacao}')"
      ],
      "metadata": {
        "colab": {
          "base_uri": "https://localhost:8080/"
        },
        "id": "sI3CZsRfDTjK",
        "outputId": "2c230d25-126d-4469-9ad6-bc380e433a7f"
      },
      "execution_count": null,
      "outputs": [
        {
          "output_type": "stream",
          "name": "stdout",
          "text": [
            "Subsetor de Atuação: Comércio\n"
          ]
        }
      ]
    },
    {
      "cell_type": "code",
      "source": [
        "valor_atual=emaranhado_legal.find_all('strong', class_=\"value\")\n",
        "valor_atual[0].text\n",
        "print(f'Valor Atual: R$ {float(valor_atual[0].text.replace(\",\", \".\"))}')"
      ],
      "metadata": {
        "id": "GwniOpd8sO_K",
        "colab": {
          "base_uri": "https://localhost:8080/"
        },
        "outputId": "c3271ec2-acc8-4b31-936f-8e228941caae"
      },
      "execution_count": null,
      "outputs": [
        {
          "output_type": "stream",
          "name": "stdout",
          "text": [
            "Valor Atual: R$ 3.56\n"
          ]
        }
      ]
    },
    {
      "cell_type": "code",
      "source": [
        "valorizacao=emaranhado_legal.find_all('div', class_=\"info w-50 w-md-50 w-lg-20\")\n",
        "valorizacao_acao=valorizacao[0].find('strong').text.replace(\"%\", \"\").replace(\",\", \".\")\n",
        "print(f'Valorização (12 meses): {float(valorizacao_acao)}%')"
      ],
      "metadata": {
        "colab": {
          "base_uri": "https://localhost:8080/"
        },
        "id": "QqZE-r-piMJ-",
        "outputId": "47449c26-8924-4e57-8eb4-6e1445c716b4"
      },
      "execution_count": null,
      "outputs": [
        {
          "output_type": "stream",
          "name": "stdout",
          "text": [
            "Valorização (12 meses): -82.16%\n"
          ]
        }
      ]
    },
    {
      "cell_type": "code",
      "source": [
        "dividend=emaranhado_legal.find_all('strong', class_=\"value d-block lh-4 fs-4 fw-700\")\n",
        "dividend_yield=dividend[0].text.replace('%', '')\n",
        "if (dividend_yield=='-'):\n",
        "  print(f'Dividend Yield não informado')\n",
        "else:  \n",
        "  print(f'Dividend Yield: {float(dividend[0].text.replace(\"%\", \"\").replace(\",\", \".\"))}%')"
      ],
      "metadata": {
        "colab": {
          "base_uri": "https://localhost:8080/"
        },
        "id": "U0wpOOofxf0H",
        "outputId": "fba0ddee-6b68-412d-fbd5-75f8a819e220"
      },
      "execution_count": null,
      "outputs": [
        {
          "output_type": "stream",
          "name": "stdout",
          "text": [
            "Dividend Yield não informado\n"
          ]
        }
      ]
    },
    {
      "cell_type": "code",
      "source": [
        "dividendos_atuais=emaranhado_legal.find_all('div', class_=\"info w-lg-20\")\n",
        "dividendos_atuais=dividendos_atuais[1].find('strong').text.replace(\",\", \".\")\n",
        "print(f'Valor Atual: R$ {float(dividendos_atuais)}')\n"
      ],
      "metadata": {
        "colab": {
          "base_uri": "https://localhost:8080/"
        },
        "id": "6pL-SqhdH2ob",
        "outputId": "908a4011-ff81-4ca3-f904-448c0f1c6cd4"
      },
      "execution_count": null,
      "outputs": [
        {
          "output_type": "stream",
          "name": "stdout",
          "text": [
            "Valor Atual: R$ 0.4712\n"
          ]
        }
      ]
    },
    {
      "cell_type": "code",
      "source": [
        "divida_liquida=emaranhado_legal.find_all('div', class_=\"d-flex align-items-center justify-between pr-1 pr-xs-2\")\n",
        "divida=divida_liquida[15].find('strong').text.replace(',', '.')\n",
        "if (divida=='-'):\n",
        "  print(f'DÍV.LÍQUIDA/EBITDA não informado')\n",
        "else:  \n",
        "  print(f'DÍV.LÍQUIDA/EBITDA: {float(divida_liquida[15].find(\"strong\").text.replace(\",\", \".\"))}')\n",
        "#print(f'{float(divida)}')"
      ],
      "metadata": {
        "colab": {
          "base_uri": "https://localhost:8080/"
        },
        "id": "9I3Np_TOMpzC",
        "outputId": "5098e42e-9065-4b4a-9b74-6b235e877cce"
      },
      "execution_count": null,
      "outputs": [
        {
          "output_type": "stream",
          "name": "stdout",
          "text": [
            "DÍV.LÍQUIDA/EBITDA: 3.93\n"
          ]
        }
      ]
    },
    {
      "cell_type": "code",
      "source": [
        "lpa=emaranhado_legal.find_all('div', class_=\"d-flex align-items-center justify-between pr-1 pr-xs-2\")\n",
        "LPA=lpa[10].find('strong').text.replace(',', '.')\n",
        "if (LPA=='-'):\n",
        "  print(f'LPA não informado')\n",
        "else:  \n",
        "  print(f'LPA: {float(divida_liquida[10].find(\"strong\").text.replace(\",\", \".\"))}')\n",
        "#print(f'{float(divida)}')"
      ],
      "metadata": {
        "colab": {
          "base_uri": "https://localhost:8080/"
        },
        "id": "PFn89-HNL2rL",
        "outputId": "34b6f135-ab2f-48ea-99ca-a7eb5adaeea3"
      },
      "execution_count": null,
      "outputs": [
        {
          "output_type": "stream",
          "name": "stdout",
          "text": [
            "LPA: 31.97\n"
          ]
        }
      ]
    },
    {
      "cell_type": "code",
      "source": [
        "pl=emaranhado_legal.find_all('div', class_=\"d-flex align-items-center justify-between pr-1 pr-xs-2\")\n",
        "PL=pl[1].find('strong').text.replace(',', '.')\n",
        "if (PL=='-'):\n",
        "  print(f'P/L não informado')\n",
        "else:  \n",
        "  print(f'P/L: {float(divida_liquida[1].find(\"strong\").text.replace(\",\", \".\"))}')"
      ],
      "metadata": {
        "colab": {
          "base_uri": "https://localhost:8080/"
        },
        "id": "5NOgc6e4updf",
        "outputId": "f5720465-1063-42a0-c27b-5d193fc513fb"
      },
      "execution_count": null,
      "outputs": [
        {
          "output_type": "stream",
          "name": "stdout",
          "text": [
            "P/L: 0.11\n"
          ]
        }
      ]
    },
    {
      "cell_type": "code",
      "source": [
        "roe=emaranhado_legal.find_all('div', class_=\"d-flex align-items-center justify-between pr-1 pr-xs-2\")\n",
        "ROE=roe[24].find('strong').text.replace(',', '.').replace('%', '')\n",
        "if (ROE=='-'):\n",
        "  print(f'ROE não informado')\n",
        "else:  \n",
        "  print(f'ROE: {float(divida_liquida[24].find(\"strong\").text.replace(\",\", \".\").replace(\"%\", \"\"))}%')"
      ],
      "metadata": {
        "colab": {
          "base_uri": "https://localhost:8080/"
        },
        "id": "U-EU2YqCUhtL",
        "outputId": "07da5c1e-a5d2-4a38-d152-2837a73eadc6"
      },
      "execution_count": null,
      "outputs": [
        {
          "output_type": "stream",
          "name": "stdout",
          "text": [
            "ROE: -11.45%\n"
          ]
        }
      ]
    },
    {
      "cell_type": "code",
      "source": [
        "roic=emaranhado_legal.find_all('div', class_=\"d-flex align-items-center justify-between pr-1 pr-xs-2\")\n",
        "ROIC=roic[26].find('strong').text.replace(',', '.').replace('%', '')\n",
        "if (ROIC=='-'):\n",
        "  print(f'ROIC não informado')\n",
        "else:  \n",
        "  print(f'ROIC: {float(divida_liquida[26].find(\"strong\").text.replace(\",\", \".\").replace(\"%\", \"\"))}%')"
      ],
      "metadata": {
        "colab": {
          "base_uri": "https://localhost:8080/"
        },
        "id": "y-fI8VQxXHDM",
        "outputId": "907ee123-8bbb-467c-d776-e1e6c86de0c5"
      },
      "execution_count": null,
      "outputs": [
        {
          "output_type": "stream",
          "name": "stdout",
          "text": [
            "ROIC: -7.5%\n"
          ]
        }
      ]
    }
  ]
}